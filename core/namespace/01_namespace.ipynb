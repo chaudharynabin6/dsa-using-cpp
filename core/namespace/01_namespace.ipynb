{
 "cells": [
  {
   "cell_type": "markdown",
   "metadata": {},
   "source": [
    "\n",
    "# Namespace\n",
    "\n",
    "https://www.geeksforgeeks.org/namespace-in-c/\n",
    "\n",
    "https://www.geeksforgeeks.org/namespace-in-c-set-2-extending-namespace-and-unnamed-namespace/\n",
    "\n",
    "* Namespaces allow us to group named entities that otherwise would have global scope into narrower scopes, giving them namespace scope. \n",
    "* This allows organizing the elements of programs into different logical scopes referred to by names.\n",
    "\n",
    "\n",
    "```c++\n",
    "namespace namespace_name \n",
    "{\n",
    "   int x, y; // code declarations where \n",
    "             // x and y are declared in \n",
    "             // namespace_name's scope\n",
    "}\n",
    "```"
   ]
  },
  {
   "cell_type": "code",
   "execution_count": 1,
   "metadata": {},
   "outputs": [
    {
     "name": "stderr",
     "output_type": "stream",
     "text": [
      "input_line_9:4:1: error: namespaces can only be defined in global or namespace scope\n",
      "{\n",
      "^\n",
      "input_line_9:8:1: error: namespaces can only be defined in global or namespace scope\n",
      "{\n",
      "^\n",
      "input_line_9:17:17: error: use of undeclared identifier 'ns1'\n",
      "        cout << ns1::value() << '\\n';\n",
      "                ^\n",
      "input_line_9:19:17: error: use of undeclared identifier 'ns2'\n",
      "        cout << ns2::value() << '\\n';\n",
      "                ^\n",
      "input_line_9:21:17: error: use of undeclared identifier 'ns2'\n",
      "        cout << ns2::x << '\\n'; \n",
      "                ^\n"
     ]
    },
    {
     "ename": "Interpreter Error",
     "evalue": "",
     "output_type": "error",
     "traceback": [
      "Interpreter Error: "
     ]
    }
   ],
   "source": [
    "// Creating namespaces\n",
    "#include <iostream>\n",
    "using namespace std;\n",
    "namespace ns1\n",
    "{\n",
    "\tint value() { return 5; }\n",
    "}\n",
    "namespace ns2\n",
    "{\n",
    "\tconst double x = 100;\n",
    "\tdouble value() { return 2*x; }\n",
    "}\n",
    "\n",
    "class Namespace{\n",
    "    public : \n",
    "    int main()\n",
    "    {\n",
    "        // Access value function within ns1\n",
    "        cout << ns1::value() << '\\n';\n",
    "\n",
    "        // Access value function within ns2\n",
    "        cout << ns2::value() << '\\n';\n",
    "\n",
    "        // Access variable x directly\n",
    "        cout << ns2::x << '\\n';\t\n",
    "\n",
    "        return 0;\n",
    "    }\n",
    "\n",
    "};\n",
    "\n",
    "\n",
    "Namespace m;\n",
    "m.main();"
   ]
  }
 ],
 "metadata": {
  "kernelspec": {
   "display_name": "C++11",
   "language": "C++11",
   "name": "xcpp11"
  },
  "language_info": {
   "codemirror_mode": "text/x-c++src",
   "file_extension": ".cpp",
   "mimetype": "text/x-c++src",
   "name": "C++11",
   "version": "11"
  },
  "orig_nbformat": 4
 },
 "nbformat": 4,
 "nbformat_minor": 2
}
