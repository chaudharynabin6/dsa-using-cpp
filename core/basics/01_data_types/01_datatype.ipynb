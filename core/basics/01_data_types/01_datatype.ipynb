{
 "cells": [
  {
   "cell_type": "markdown",
   "metadata": {},
   "source": [
    "# Datatypes"
   ]
  },
  {
   "cell_type": "markdown",
   "metadata": {},
   "source": [
    "### Primitive Data Types:\n",
    "\n",
    " These data types are built-in or predefined data types and can be used directly by the user to declare variables. example: int, char , float, bool etc. Primitive data types available in C++ are: \n",
    "* Integer\n",
    "* Character\n",
    "* Boolean\n",
    "* Floating Point\n",
    "* Double Floating Point\n",
    "* Valueless or Void\n",
    "* Wide Character\n",
    "\n",
    "------\n",
    "### Derived Data Types:\n",
    "\n",
    " The data-types that are derived from the primitive or built-in datatypes are referred to as Derived Data Types. These can be of four types namely: \n",
    "\n",
    "* Function\n",
    "* Array\n",
    "* Pointer\n",
    "* Reference\n",
    "\n",
    "\n",
    "--------------------\n",
    "### Abstract or User-Defined Data Types:\n",
    "\n",
    " These data types are defined by user itself. Like, defining a class in C++ or a structure. C++ provides the following user-defined datatypes: \n",
    "\n",
    "* Class\n",
    "* Structure\n",
    "* Union\n",
    "* Enumeration\n",
    "* Typedef defined DataType\n",
    "\n",
    "\n",
    "-----------------"
   ]
  },
  {
   "cell_type": "code",
   "execution_count": 4,
   "metadata": {},
   "outputs": [
    {
     "name": "stdout",
     "output_type": "stream",
     "text": [
      "Size of char : 1 byte\n",
      "Size of int : 4 bytes\n",
      "Size of short int : 2 bytes\n",
      "Size of long int : 8 bytes\n",
      "Size of signed long int : 8 bytes\n",
      "Size of unsigned long int : 8 bytes\n",
      "Size of float : 4 bytes\n",
      "Size of double : 8 bytes\n",
      "Size of wchar_t : 4 bytes\n"
     ]
    },
    {
     "data": {
      "text/plain": [
       "@0x7fc00d593ba0"
      ]
     },
     "execution_count": 4,
     "metadata": {},
     "output_type": "execute_result"
    }
   ],
   "source": [
    "// C++ program to sizes of data types\n",
    "#include<iostream>\n",
    "using namespace std;\n",
    " \n",
    "\n",
    "cout << \"Size of char : \" << sizeof(char)\n",
    "    << \" byte\" << endl;\n",
    "cout << \"Size of int : \" << sizeof(int)\n",
    "    << \" bytes\" << endl;\n",
    "cout << \"Size of short int : \" << sizeof(short int)\n",
    "    << \" bytes\" << endl;\n",
    "cout << \"Size of long int : \" << sizeof(long int)\n",
    "    << \" bytes\" << endl;\n",
    "cout << \"Size of signed long int : \" << sizeof(signed long int)\n",
    "    << \" bytes\" << endl;\n",
    "cout << \"Size of unsigned long int : \" << sizeof(unsigned long int)\n",
    "    << \" bytes\" << endl;\n",
    "cout << \"Size of float : \" << sizeof(float)\n",
    "    << \" bytes\" <<endl;\n",
    "cout << \"Size of double : \" << sizeof(double)\n",
    "    << \" bytes\" << endl;\n",
    "cout << \"Size of wchar_t : \" << sizeof(wchar_t)\n",
    "       << \" bytes\" <<endl;\n",
    "     \n"
   ]
  },
  {
   "cell_type": "markdown",
   "metadata": {},
   "source": [
    "| Data Type\t            |  Size (in bytes)\t  |Range                         |\n",
    "| -----------           | ------------------- | ---------------------------- |\n",
    "| short int\t            | 2\t                  | -32,768 to 32,767            |\n",
    "| unsigned short int    | 2\t                  |  0 to 65,535                 |\n",
    "| unsigned int\t        | 4\t                  | 0 to 4,294,967,295           | \n",
    "| int\t                |4\t                  |-2,147,483,648 to 2,147,483,647|\n",
    "long int\t4\t-2,147,483,648 to 2,147,483,647\n",
    "unsigned long int\t4\t0 to 4,294,967,295\n",
    "long long int\t8\t-(2^63) to (2^63)-1\n",
    "unsigned long long int\t8\t0 to 18,446,744,073,709,551,615\n",
    "signed char\t1\t-128 to 127\n",
    "unsigned char\t1\t0 to 255\n",
    "float\t4\t \n",
    "double\t8\t \n",
    "long double\t12\t \n",
    "wchar_t\t2 or 4\t1 wide character"
   ]
  },
  {
   "cell_type": "markdown",
   "metadata": {},
   "source": [
    "# What happen when we exceed valid range of built-in data types in C++?\n",
    "\n",
    "https://www.geeksforgeeks.org/happen-exceed-valid-range-built-data-types-c/"
   ]
  },
  {
   "cell_type": "markdown",
   "metadata": {},
   "source": [
    " **Consider the below programs.** \n",
    "\n",
    "1) Program to show what happens when we cross range of ‘char’ : "
   ]
  },
  {
   "cell_type": "code",
   "execution_count": 1,
   "metadata": {},
   "outputs": [
    {
     "name": "stderr",
     "output_type": "stream",
     "text": [
      "input_line_9:3:20: warning: comparison of constant 225 with expression of type 'char' is always true [-Wtautological-constant-out-of-range-compare]\n",
      "for (char a = 0; a <= 225; a++)\n",
      "                 ~ ^  ~~~\n"
     ]
    }
   ],
   "source": [
    "// C++ program to demonstrate\n",
    "// the problem with 'char'\n",
    "#include <iostream>\n",
    "\n",
    "using namespace std;\n",
    "\n",
    "\n",
    "for (char a = 0; a <= 225; a++)\n",
    "    cout << a;\n"
   ]
  },
  {
   "cell_type": "markdown",
   "metadata": {},
   "source": [
    "**REASON:**\n",
    "a is declared as char. Here the loop is working from 0 to 225. So, it should print from 0 to 225, then stop. But it will generate a infinite loop. The reason for this is the valid range of character datatype is -128 to 127. When ‘a’ become 128 through a++, the range is exceeded and as a result the first number from negative side of the range (i.e. -128) gets assigned to a. As a result of this ‘a’ will never reach at point 225. so it will print the infinite series of character."
   ]
  },
  {
   "cell_type": "markdown",
   "metadata": {},
   "source": [
    "2) Program to show what happens when we cross range of ‘bool’ : \n",
    " "
   ]
  },
  {
   "cell_type": "code",
   "execution_count": 1,
   "metadata": {},
   "outputs": [
    {
     "name": "stderr",
     "output_type": "stream",
     "text": [
      "input_line_9:6:23: warning: incrementing expression of type bool is deprecated and incompatible with C++17 [-Wdeprecated-increment-bool]\n",
      "        for (a = 1; a <= 5; a++)\n",
      "                            ~^\n",
      "input_line_9:6:16: warning: comparison of constant 5 with expression of type 'bool' is always true [-Wtautological-constant-out-of-range-compare]\n",
      "        for (a = 1; a <= 5; a++)\n",
      "                    ~ ^  ~\n"
     ]
    }
   ],
   "source": [
    "// C++ program to demonstrate\n",
    "// the problem with 'bool'\n",
    "#include <iostream>\n",
    "\n",
    "using namespace std;\n",
    "\n",
    "\t// declaring Boolean\n",
    "\t// variable with true value\n",
    "\tbool a = true;\n",
    "\n",
    "\tfor (a = 1; a <= 5; a++)\n",
    "\t\tcout << a;\n",
    "\n"
   ]
  },
  {
   "cell_type": "markdown",
   "metadata": {},
   "source": [
    "**REASON:** his code will print ‘1’ infinite time because here ‘a’ is declared as ‘bool’ and it’s valid range is 0 to 1. And for a Boolean variable anything else than 0 is 1 (or true). When ‘a’ tries to become 2 (through a++), 1 gets assigned to ‘a’. The condition a<=5 is satisfied and the control remains with in the loop. See this for Bool data type."
   ]
  },
  {
   "cell_type": "markdown",
   "metadata": {},
   "source": [
    "3) Program to show what happens when we cross range of ‘short’ : \n",
    "Note that short is short for short int. They are synonymous. short, short int, signed short, and signed short int are all the same data-type. "
   ]
  },
  {
   "cell_type": "code",
   "execution_count": 1,
   "metadata": {},
   "outputs": [
    {
     "name": "stderr",
     "output_type": "stream",
     "text": [
      "input_line_9:5:19: warning: comparison of constant 32770 with expression of type 'short' is always true [-Wtautological-constant-out-of-range-compare]\n",
      "for (a = 32767; a < 32770; a++)\n",
      "                ~ ^ ~~~~~\n"
     ]
    }
   ],
   "source": [
    "// C++ program to demonstrate\n",
    "// the problem with 'short'\n",
    "#include <iostream>\n",
    "\n",
    "using namespace std;\n",
    "\n",
    "\n",
    "// declaring short variable\n",
    "short a;\n",
    "\n",
    "for (a = 32767; a < 32770; a++)\n",
    "    cout << a << \"\\n\";\n",
    "\n"
   ]
  },
  {
   "cell_type": "markdown",
   "metadata": {},
   "source": [
    "**REASON:** Will this code print ‘a’ till it becomes 32770? Well the answer is indefinite loop, because here ‘a’ is declared as a short and its valid range is -32768 to +32767. When ‘a’ tries to become 32768 through a++, the range is exceeded and as a result the first number from negative side of the range(i.e. -32768) gets assigned to a. Hence the condition “a < 32770” is satisfied and control remains within the loop."
   ]
  }
 ],
 "metadata": {
  "kernelspec": {
   "display_name": "C++11",
   "language": "C++11",
   "name": "xcpp11"
  },
  "language_info": {
   "codemirror_mode": "text/x-c++src",
   "file_extension": ".cpp",
   "mimetype": "text/x-c++src",
   "name": "c++",
   "version": "11"
  },
  "orig_nbformat": 4
 },
 "nbformat": 4,
 "nbformat_minor": 2
}
