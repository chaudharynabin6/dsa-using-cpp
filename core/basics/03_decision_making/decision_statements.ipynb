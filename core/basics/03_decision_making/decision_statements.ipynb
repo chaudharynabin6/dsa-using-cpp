{
 "cells": [
  {
   "cell_type": "markdown",
   "metadata": {},
   "source": [
    "# Decision Statements\n",
    "\n",
    "https://www.geeksforgeeks.org/decision-making-c-c-else-nested-else/?ref=lbp"
   ]
  },
  {
   "cell_type": "markdown",
   "metadata": {},
   "source": [
    "1. if statement\n",
    "2. if..else statements\n",
    "3. nested if statements\n",
    "4. if-else-if ladder\n",
    "5. switch statements\n",
    "6. Jump Statements: \n",
    "    * break\n",
    "    * continue\n",
    "    * goto\n",
    "    * return"
   ]
  },
  {
   "cell_type": "markdown",
   "metadata": {},
   "source": [
    "### 1. if statement"
   ]
  },
  {
   "cell_type": "code",
   "execution_count": 8,
   "metadata": {},
   "outputs": [
    {
     "name": "stdout",
     "output_type": "stream",
     "text": [
      "9 is less than 10\n",
      "I am Not in if"
     ]
    }
   ],
   "source": [
    "\n",
    "// C++ program to illustrate If statement\n",
    "#include<iostream>\n",
    "using namespace std;\n",
    " \n",
    "  \n",
    "\n",
    "// true : will execute inside if statement\n",
    "if(9 < 10){\n",
    "    cout << \"9 is less than 10\";\n",
    "}\n",
    "\n",
    "// outside if statment\n",
    "cout << endl;\n",
    "\n",
    "// false : will not execute inside if statement\n",
    "if (10 > 15)\n",
    "{\n",
    "    cout<<\"10 is no less than 15\";\n",
    "}   \n",
    "\n",
    "\n",
    "cout<<\"I am Not in if\";\n"
   ]
  },
  {
   "cell_type": "markdown",
   "metadata": {},
   "source": [
    "### 2. if ... else statement\n",
    "\n",
    "```c++\n",
    "if (condition)\n",
    "{\n",
    "    // Executes this block if\n",
    "    // condition is true\n",
    "}\n",
    "else\n",
    "{\n",
    "    // Executes this block if\n",
    "    // condition is false\n",
    "}\n",
    "```"
   ]
  },
  {
   "cell_type": "code",
   "execution_count": 25,
   "metadata": {},
   "outputs": [],
   "source": [
    "\n",
    "// C++ program to illustrate if-else statement\n",
    "#include<iostream>\n",
    "using namespace std;\n",
    "\n",
    "class Test{\n",
    "\n",
    "    public:\n",
    "        void test()\n",
    "        {\n",
    "                int i = 20;\n",
    "        \n",
    "                if (i < 15)\n",
    "                    cout<<\"i is smaller than 15\";\n",
    "                else\n",
    "                    cout<<\"i is greater than 15\";\n",
    "                    \n",
    "         \n",
    "        }\n",
    "}\n",
    "\n"
   ]
  },
  {
   "cell_type": "code",
   "execution_count": 26,
   "metadata": {},
   "outputs": [
    {
     "name": "stdout",
     "output_type": "stream",
     "text": [
      "i is greater than 15"
     ]
    }
   ],
   "source": [
    "Test obj = Test();\n",
    "obj.test();"
   ]
  },
  {
   "cell_type": "markdown",
   "metadata": {},
   "source": [
    "### 3. nested-if in C/C++\n",
    "\n",
    "```cpp\n",
    "if (condition1) \n",
    "{\n",
    "   // Executes when condition1 is true\n",
    "   if (condition2) \n",
    "   {\n",
    "      // Executes when condition2 is true\n",
    "   }\n",
    "}\n",
    "\n",
    "```"
   ]
  },
  {
   "cell_type": "code",
   "execution_count": 27,
   "metadata": {},
   "outputs": [
    {
     "name": "stdout",
     "output_type": "stream",
     "text": [
      "i is smaller than 15\n",
      "i is smaller than 12 too\n"
     ]
    }
   ],
   "source": [
    "\n",
    "// C++ program to illustrate nested-if statement\n",
    "#include <iostream>\n",
    "using namespace std;\n",
    "int i = 10;\n",
    "\n",
    "if (i == 10)\n",
    "{\n",
    "    // First if statement\n",
    "    if (i < 15)\n",
    "        cout<<\"i is smaller than 15\\n\";\n",
    "\n",
    "    // Nested - if statement\n",
    "    // Will only be executed if statement above\n",
    "    // is true\n",
    "    if (i < 12)\n",
    "        cout<<\"i is smaller than 12 too\\n\";\n",
    "    else\n",
    "        cout<<\"i is greater than 15\";\n",
    "}\n",
    " \n"
   ]
  },
  {
   "cell_type": "markdown",
   "metadata": {},
   "source": [
    "### 4. if-else-if ladder in C/C++\n",
    "\n",
    "``` c++\n",
    "if (condition)\n",
    "    statement;\n",
    "else if (condition)\n",
    "    statement;\n",
    ".\n",
    ".\n",
    "else\n",
    "    statement;\n",
    "\n",
    "```"
   ]
  },
  {
   "cell_type": "code",
   "execution_count": 29,
   "metadata": {},
   "outputs": [
    {
     "name": "stdout",
     "output_type": "stream",
     "text": [
      "i is 20"
     ]
    }
   ],
   "source": [
    "\n",
    "// C++ program to illustrate if-else-if ladder\n",
    "#include<iostream>\n",
    "using namespace std;\n",
    " \n",
    "\n",
    "int i = 20;\n",
    "\n",
    "if (i == 10)\n",
    "    cout<<\"i is 10\";\n",
    "else if (i == 15)\n",
    "    cout<<\"i is 15\";\n",
    "else if (i == 20)\n",
    "    cout<<\"i is 20\";\n",
    "else\n",
    "    cout<<\"i is not present\";\n"
   ]
  },
  {
   "cell_type": "markdown",
   "metadata": {},
   "source": [
    "### 5. Jump Statements in C/C++\n",
    "\n",
    "* break\n",
    "* continue\n",
    "* goto\n",
    "* return"
   ]
  },
  {
   "cell_type": "markdown",
   "metadata": {},
   "source": [
    "**1.break**"
   ]
  },
  {
   "cell_type": "code",
   "execution_count": 32,
   "metadata": {},
   "outputs": [],
   "source": [
    "// CPP program to illustrate\n",
    "// Linear Search\n",
    "#include <iostream>\n",
    "using namespace std;\n",
    "\n",
    "class Array{\n",
    "public:\n",
    "    void findElement(int arr[], int size, int key)\n",
    "    {\n",
    "        // loop to traverse array and search for key\n",
    "        for (int i = 0; i < size; i++) {\n",
    "            if (arr[i] == key) {\n",
    "                cout << \"Element found at position: \" << (i + 1);\n",
    "                break;\n",
    "            }\n",
    "        }\n",
    "    }\n",
    "} \n"
   ]
  },
  {
   "cell_type": "code",
   "execution_count": 34,
   "metadata": {},
   "outputs": [
    {
     "name": "stdout",
     "output_type": "stream",
     "text": [
      "Element found at position: 3"
     ]
    }
   ],
   "source": [
    " \n",
    "// Driver program to test above function\n",
    "\n",
    "int arr[] = { 1, 2, 3, 4, 5, 6 };\n",
    "int n = 6; // no of elements\n",
    "int key = 3; // key to be searched\n",
    "\n",
    "// Calling function to find the key\n",
    "\n",
    "Array a = Array();\n",
    "a.findElement(arr, n, key);\n",
    " \n"
   ]
  },
  {
   "cell_type": "markdown",
   "metadata": {},
   "source": [
    "**2.continue**"
   ]
  },
  {
   "cell_type": "code",
   "execution_count": 35,
   "metadata": {},
   "outputs": [
    {
     "name": "stdout",
     "output_type": "stream",
     "text": [
      "1 2 3 4 5 7 8 9 10 "
     ]
    }
   ],
   "source": [
    "// C++ program to explain the use\n",
    "// of continue statement\n",
    " \n",
    "#include <iostream>\n",
    "using namespace std;\n",
    "\n",
    "// loop from 1 to 10\n",
    "for (int i = 1; i <= 10; i++) {\n",
    "\n",
    "    // If i is equals to 6,\n",
    "    // continue to next iteration\n",
    "    // without printing\n",
    "    if (i == 6)\n",
    "        continue;\n",
    "\n",
    "    else\n",
    "        // otherwise print the value of i\n",
    "        cout << i << \" \";\n",
    "}\n",
    " \n"
   ]
  },
  {
   "cell_type": "markdown",
   "metadata": {},
   "source": [
    "**3.goto and label**"
   ]
  },
  {
   "cell_type": "code",
   "execution_count": 37,
   "metadata": {},
   "outputs": [
    {
     "name": "stdout",
     "output_type": "stream",
     "text": [
      "1 2 3 4 5 6 7 8 9 10 "
     ]
    }
   ],
   "source": [
    "#include <iostream>\n",
    "\n",
    "using namespace std;\n",
    "\n",
    "int n = 1;\n",
    "test_label:\n",
    "    cout << n << \" \";\n",
    "    n++;\n",
    "    if (n <= 10)\n",
    "        goto test_label;"
   ]
  },
  {
   "cell_type": "markdown",
   "metadata": {},
   "source": [
    "**4.return**"
   ]
  },
  {
   "cell_type": "code",
   "execution_count": 38,
   "metadata": {},
   "outputs": [],
   "source": [
    "// C++ code to illustrate return\n",
    "// statement\n",
    "#include <iostream>\n",
    "using namespace std;\n",
    " \n",
    "class Number{\n",
    "    public: \n",
    "        // non-void return type\n",
    "        // function to calculate sum\n",
    "        int SUM(int a, int b)\n",
    "        {\n",
    "            int s1 = a + b;\n",
    "            return s1;\n",
    "        }\n",
    "        \n",
    "        // returns void\n",
    "        // function to print\n",
    "        void Print(int s2)\n",
    "        {\n",
    "            cout << \"The sum is \"<< s2;\n",
    "            return;\n",
    "        }\n",
    "    \n",
    "}\n"
   ]
  },
  {
   "cell_type": "code",
   "execution_count": 40,
   "metadata": {},
   "outputs": [
    {
     "name": "stdout",
     "output_type": "stream",
     "text": [
      "The sum is 20"
     ]
    }
   ],
   "source": [
    "\n",
    "int num1 = 10;\n",
    "int num2 = 10;\n",
    "Number n_obj = Number();\n",
    "int sum_of = n_obj.SUM(num1, num2);\n",
    "n_obj.Print(sum_of);"
   ]
  }
 ],
 "metadata": {
  "kernelspec": {
   "display_name": "C++11",
   "language": "C++11",
   "name": "xcpp11"
  },
  "language_info": {
   "codemirror_mode": "text/x-c++src",
   "file_extension": ".cpp",
   "mimetype": "text/x-c++src",
   "name": "c++",
   "version": "11"
  },
  "orig_nbformat": 4
 },
 "nbformat": 4,
 "nbformat_minor": 2
}
