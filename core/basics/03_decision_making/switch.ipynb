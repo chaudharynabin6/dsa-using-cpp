{
 "cells": [
  {
   "cell_type": "markdown",
   "metadata": {},
   "source": [
    "# Switch Statement in C/C++\n",
    "\n",
    "https://www.geeksforgeeks.org/switch-statement-cc/\n",
    "\n",
    "* Important Points About Switch Case Statements:  \n",
    " \n",
    "Time Complexity: O(1)\n",
    "\n",
    "Auxiliary Space: O(1)\n"
   ]
  },
  {
   "cell_type": "markdown",
   "metadata": {},
   "source": [
    "```c++\n",
    "switch (n)\n",
    "{\n",
    "    case 1: // code to be executed if n = 1;\n",
    "        break;\n",
    "    case 2: // code to be executed if n = 2;\n",
    "        break;\n",
    "    default: // code to be executed if n doesn't match any cases\n",
    "}\n",
    "```"
   ]
  },
  {
   "cell_type": "code",
   "execution_count": 6,
   "metadata": {},
   "outputs": [
    {
     "name": "stdout",
     "output_type": "stream",
     "text": [
      "x = 0 Choice other than 1, 2 and 3\n",
      "x = 1 Choice is 1\n",
      "x = 2 Choice is 2\n",
      "x = 3 Choice is 3\n",
      "x = 4 Choice other than 1, 2 and 3\n",
      "x = 5 Choice other than 1, 2 and 3\n",
      "x = 6 Choice other than 1, 2 and 3\n",
      "x = 7 Choice other than 1, 2 and 3\n",
      "x = 8 Choice other than 1, 2 and 3\n",
      "x = 9 Choice other than 1, 2 and 3\n"
     ]
    }
   ],
   "source": [
    "// C++ program to demonstrate syntax of switch\n",
    "#include <iostream>\n",
    "using namespace std;\n",
    "\n",
    "// Driver Code\n",
    "\n",
    "\tfor(int x = 0; x < 10; x++){\n",
    "\n",
    "        cout << \"x = \" << x << \" \";\n",
    "        switch (x) {\n",
    "            case 1:\n",
    "                cout << \"Choice is 1\";\n",
    "                break;\n",
    "            case 2:\n",
    "                cout << \"Choice is 2\";\n",
    "                break;\n",
    "            case 3:\n",
    "                cout << \"Choice is 3\";\n",
    "                break;\n",
    "            default:\n",
    "                cout << \"Choice other than 1, 2 and 3\";\n",
    "                break;\n",
    "        }\n",
    "\n",
    "        cout << endl;\n",
    "    }\n",
    "\n",
    "\n"
   ]
  },
  {
   "cell_type": "code",
   "execution_count": null,
   "metadata": {},
   "outputs": [],
   "source": []
  }
 ],
 "metadata": {
  "kernelspec": {
   "display_name": "C++11",
   "language": "C++11",
   "name": "xcpp11"
  },
  "language_info": {
   "codemirror_mode": "text/x-c++src",
   "file_extension": ".cpp",
   "mimetype": "text/x-c++src",
   "name": "c++",
   "version": "11"
  },
  "orig_nbformat": 4
 },
 "nbformat": 4,
 "nbformat_minor": 2
}
