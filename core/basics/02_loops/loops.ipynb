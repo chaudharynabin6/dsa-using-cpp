{
 "cells": [
  {
   "cell_type": "markdown",
   "metadata": {},
   "source": [
    "# loops\n",
    "\n",
    "\n",
    "https://www.geeksforgeeks.org/loops-in-c-and-cpp/?ref=lbp"
   ]
  },
  {
   "cell_type": "markdown",
   "metadata": {},
   "source": [
    "\n",
    "here are mainly two types of loops:\n",
    "\n",
    "### 1.Entry Controlled loops: \n",
    "\n",
    "In this type of loops the test condition is tested before entering the loop body. For Loop and While Loop are entry controlled loops.\n",
    "\n",
    "\n",
    "### 2.Exit Controlled Loops: \n",
    "\n",
    "In this type of loops the test condition is tested or evaluated at the end of loop body. Therefore, the loop body will execute atleast once, irrespective of whether the test condition is true or false. do – while loop is exit controlled loop."
   ]
  },
  {
   "cell_type": "markdown",
   "metadata": {},
   "source": [
    "## for loop"
   ]
  },
  {
   "cell_type": "code",
   "execution_count": 4,
   "metadata": {},
   "outputs": [
    {
     "name": "stdout",
     "output_type": "stream",
     "text": [
      "Hello World\n",
      "Hello World\n",
      "Hello World\n",
      "Hello World\n",
      "Hello World\n",
      "Hello World\n",
      "Hello World\n",
      "Hello World\n",
      "Hello World\n",
      "Hello World\n"
     ]
    }
   ],
   "source": [
    "//  for loop\n",
    "\n",
    "\n",
    "// C++ program to illustrate for loop\n",
    "#include <iostream>\n",
    "using namespace std;\n",
    "for (int i = 1; i <= 10; i++)\n",
    "{\n",
    "    cout << \"Hello World\\n\";\n",
    "}"
   ]
  },
  {
   "cell_type": "markdown",
   "metadata": {},
   "source": [
    "## while loop"
   ]
  },
  {
   "cell_type": "code",
   "execution_count": 7,
   "metadata": {},
   "outputs": [
    {
     "name": "stdout",
     "output_type": "stream",
     "text": [
      "Hello World\n",
      "Hello World\n",
      "Hello World\n",
      "Hello World\n",
      "Hello World\n"
     ]
    }
   ],
   "source": [
    "\n",
    "// C++ program to illustrate while loop\n",
    "#include <iostream>\n",
    "using namespace std;\n",
    "  \n",
    "\n",
    "// initialization expression\n",
    "int i = 1;\n",
    "\n",
    "// test expression\n",
    "while (i < 6)\n",
    "{\n",
    "    cout << \"Hello World\\n\";\n",
    "\n",
    "    // update expression\n",
    "    i++;\n",
    "}\n",
    "\n",
    "\n"
   ]
  },
  {
   "cell_type": "markdown",
   "metadata": {},
   "source": [
    "## do while loop"
   ]
  },
  {
   "cell_type": "code",
   "execution_count": 12,
   "metadata": {},
   "outputs": [
    {
     "name": "stdout",
     "output_type": "stream",
     "text": [
      "Hello World\n",
      "Hello World\n",
      "Hello World\n",
      "Hello World\n",
      "Hello World\n"
     ]
    }
   ],
   "source": [
    "\n",
    "// C++ program to illustrate do-while loop\n",
    "#include <iostream>\n",
    "using namespace std;\n",
    "  \n",
    "\n",
    "int i = 0; // Initialization expression\n",
    "\n",
    "do\n",
    "{\n",
    "    // loop body\n",
    "    cout << \"Hello World\\n\";\n",
    "\n",
    "    // update expression\n",
    "    i++;\n",
    "\n",
    "}while (i < 5 );   // test expression\n",
    "  "
   ]
  },
  {
   "cell_type": "markdown",
   "metadata": {},
   "source": [
    "# practice"
   ]
  },
  {
   "cell_type": "markdown",
   "metadata": {},
   "source": [
    "program to print natural number from 1 to 1000"
   ]
  },
  {
   "cell_type": "markdown",
   "metadata": {},
   "source": [
    "### using for loop"
   ]
  },
  {
   "cell_type": "code",
   "execution_count": 3,
   "metadata": {},
   "outputs": [
    {
     "name": "stdout",
     "output_type": "stream",
     "text": [
      "1 2 3 4 5 6 7 8 9 10 11 12 13 14 15 16 17 18 19 20 21 22 23 24 25 26 27 28 29 30 31 32 33 34 35 36 37 38 39 40 41 42 43 44 45 46 47 48 49 50 51 52 53 54 55 56 57 58 59 60 61 62 63 64 65 66 67 68 69 70 71 72 73 74 75 76 77 78 79 80 81 82 83 84 85 86 87 88 89 90 91 92 93 94 95 96 97 98 99 100 "
     ]
    }
   ],
   "source": [
    "// for loop\n",
    "//  program to print natural number from 1 to 100\n",
    "#include <iostream>\n",
    "using namespace std;\n",
    "\n",
    "for(int i=1; i<101; i++){\n",
    "    cout << i <<\" \";\n",
    "}"
   ]
  },
  {
   "cell_type": "markdown",
   "metadata": {},
   "source": [
    "### using while loop"
   ]
  },
  {
   "cell_type": "code",
   "execution_count": 4,
   "metadata": {},
   "outputs": [
    {
     "name": "stdout",
     "output_type": "stream",
     "text": [
      "1 2 3 4 5 6 7 8 9 10 11 12 13 14 15 16 17 18 19 20 21 22 23 24 25 26 27 28 29 30 31 32 33 34 35 36 37 38 39 40 41 42 43 44 45 46 47 48 49 50 51 52 53 54 55 56 57 58 59 60 61 62 63 64 65 66 67 68 69 70 71 72 73 74 75 76 77 78 79 80 81 82 83 84 85 86 87 88 89 90 91 92 93 94 95 96 97 98 99 100 "
     ]
    }
   ],
   "source": [
    "// while loop\n",
    "\n",
    "#include <iostream>\n",
    "using namespace std;\n",
    "\n",
    "int i = 1;\n",
    "while(i<101){\n",
    "    cout << i << \" \";\n",
    "    i++;\n",
    "}"
   ]
  },
  {
   "cell_type": "markdown",
   "metadata": {},
   "source": [
    "### using do while loop"
   ]
  },
  {
   "cell_type": "code",
   "execution_count": 3,
   "metadata": {},
   "outputs": [
    {
     "name": "stdout",
     "output_type": "stream",
     "text": [
      "0 1 2 3 4 5 6 7 8 9 10 11 12 13 14 15 16 17 18 19 20 21 22 23 24 25 26 27 28 29 30 31 32 33 34 35 36 37 38 39 40 41 42 43 44 45 46 47 48 49 50 51 52 53 54 55 56 57 58 59 60 61 62 63 64 65 66 67 68 69 70 71 72 73 74 75 76 77 78 79 80 81 82 83 84 85 86 87 88 89 90 91 92 93 94 95 96 97 98 99 100 "
     ]
    }
   ],
   "source": [
    "#include <iostream>\n",
    "using namespace std;\n",
    "\n",
    "int i = 0;\n",
    "do{\n",
    "    cout << i << \" \";\n",
    "    i++;\n",
    "}while(i < 101);"
   ]
  }
 ],
 "metadata": {
  "kernelspec": {
   "display_name": "C++11",
   "language": "C++11",
   "name": "xcpp11"
  },
  "language_info": {
   "codemirror_mode": "text/x-c++src",
   "file_extension": ".cpp",
   "mimetype": "text/x-c++src",
   "name": "c++",
   "version": "11"
  },
  "orig_nbformat": 4
 },
 "nbformat": 4,
 "nbformat_minor": 2
}
