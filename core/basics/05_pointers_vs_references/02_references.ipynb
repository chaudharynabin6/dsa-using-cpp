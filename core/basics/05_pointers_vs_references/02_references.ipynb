{
 "cells": [
  {
   "cell_type": "markdown",
   "metadata": {},
   "source": [
    "# References in cpp\n",
    "\n",
    "\n",
    "https://www.geeksforgeeks.org/references-in-c/\n",
    "\n",
    "\n",
    "* an alternative name for an existing variable\n",
    "* pointer vs references\n",
    "* advantages of references\n",
    "* application of references"
   ]
  },
  {
   "cell_type": "code",
   "execution_count": 13,
   "metadata": {},
   "outputs": [],
   "source": [
    "#include <iostream>\n",
    "using namespace std;"
   ]
  },
  {
   "cell_type": "markdown",
   "metadata": {},
   "source": [
    "### basic example of reference"
   ]
  },
  {
   "cell_type": "code",
   "execution_count": 14,
   "metadata": {},
   "outputs": [
    {
     "name": "stdout",
     "output_type": "stream",
     "text": [
      "a = 2\n",
      "ref = 2\n",
      "a = 100\n",
      "ref = 100\n"
     ]
    }
   ],
   "source": [
    "\n",
    "\n",
    "int a = 2;\n",
    "int& ref = a;\n",
    "cout << \"a = \" << a << endl;\n",
    "cout << \"ref = \" << ref << endl;\n",
    "\n",
    "\n",
    "ref = 100;\n",
    "\n",
    "cout << \"a = \" << a << endl;\n",
    "cout << \"ref = \" << ref << endl;"
   ]
  },
  {
   "cell_type": "markdown",
   "metadata": {},
   "source": [
    "### swapping number in c++ "
   ]
  },
  {
   "cell_type": "code",
   "execution_count": 18,
   "metadata": {},
   "outputs": [],
   "source": [
    "\n",
    "// swapping integer\n",
    "class Number {\n",
    "\n",
    "    public :\n",
    "    void swap(int& first, int& second ){\n",
    "        int temp;\n",
    "        temp = first;\n",
    "        first = second;\n",
    "        second = temp;\n",
    "    }\n",
    "}"
   ]
  },
  {
   "cell_type": "code",
   "execution_count": 16,
   "metadata": {},
   "outputs": [
    {
     "name": "stdout",
     "output_type": "stream",
     "text": [
      "a = 10\n",
      "b = 23\n",
      "after swapping \n",
      "a = 23\n",
      "b = 10\n"
     ]
    }
   ],
   "source": [
    "int a = 10,b = 23;\n",
    "\n",
    "cout << \"a = \" << a << endl;\n",
    "cout << \"b = \" << b << endl;\n",
    "\n",
    "// Number object\n",
    "Number num = Number();\n",
    "\n",
    "// swapping by calling the method\n",
    "num.swap(a,b);\n",
    "\n",
    "cout << \"after swapping \" << endl;\n",
    "cout << \"a = \" << a << endl;\n",
    "cout << \"b = \" << b << endl;"
   ]
  }
 ],
 "metadata": {
  "kernelspec": {
   "display_name": "C++11",
   "language": "C++11",
   "name": "xcpp11"
  },
  "language_info": {
   "codemirror_mode": "text/x-c++src",
   "file_extension": ".cpp",
   "mimetype": "text/x-c++src",
   "name": "C++11",
   "version": "11"
  },
  "orig_nbformat": 4
 },
 "nbformat": 4,
 "nbformat_minor": 2
}
