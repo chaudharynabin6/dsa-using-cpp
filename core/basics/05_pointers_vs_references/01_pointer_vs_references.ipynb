{
 "cells": [
  {
   "cell_type": "markdown",
   "metadata": {},
   "source": [
    "# pointers"
   ]
  },
  {
   "cell_type": "code",
   "execution_count": 6,
   "metadata": {},
   "outputs": [
    {
     "name": "stdout",
     "output_type": "stream",
     "text": [
      "a = 10\n",
      "ptr = 0x7fca2ea0a088\n",
      "*ptr = 10\n",
      "ptr_ptr = 0x7fca2ea0a090\n",
      "*ptr_ptr = 0x7fca2ea0a088\n",
      "*(*ptr_ptr)  = 10\n"
     ]
    }
   ],
   "source": [
    "#include <iostream>\n",
    "\n",
    "using namespace std;\n",
    "\n",
    "\n",
    "int a = 10;\n",
    "\n",
    "int *ptr;\n",
    "\n",
    "int *(*ptr_ptr);\n",
    "\n",
    "ptr_ptr = &ptr;\n",
    "\n",
    "ptr = &a;\n",
    "\n",
    "cout << \"a = \" << a << endl;\n",
    "\n",
    "cout << \"ptr = \" << ptr << endl;\n",
    "\n",
    "cout << \"*ptr = \" << *ptr << endl;\n",
    "\n",
    "cout << \"ptr_ptr = \" << ptr_ptr << endl;\n",
    "\n",
    "cout << \"*ptr_ptr = \" << *ptr_ptr << endl;\n",
    "\n",
    "cout << \"*(*ptr_ptr)  = \" << *(*ptr_ptr) << endl;"
   ]
  },
  {
   "cell_type": "markdown",
   "metadata": {},
   "source": [
    "## pointer  Arithmetic and Array"
   ]
  },
  {
   "cell_type": "markdown",
   "metadata": {},
   "source": [
    "### 1-d array"
   ]
  },
  {
   "cell_type": "code",
   "execution_count": 20,
   "metadata": {},
   "outputs": [
    {
     "name": "stdout",
     "output_type": "stream",
     "text": [
      "sizeof(arr) =  40\n",
      "length of arr = 10\n",
      "1 2 3 4 5 6 0 0 0 0 \n",
      "1 2 3 4 5 6 0 0 0 0 \n",
      "1 2 3 4 5 6 0 0 0 0 "
     ]
    }
   ],
   "source": [
    "// 1-d array\n",
    "int arr[10] = {1,2,3,4,5,6};\n",
    "\n",
    "cout << \"sizeof(arr) =  \" << sizeof(arr) << endl;\n",
    "\n",
    "cout << \"length of arr = \" << sizeof(arr) / sizeof(arr[0]) << endl;\n",
    "\n",
    "int length_arr = sizeof(arr) / sizeof(arr[0]);\n",
    "for(int i = 0; i < length_arr ; i++){\n",
    "\n",
    "    cout << arr[i] << \" \";\n",
    "}\n",
    "\n",
    "cout << endl;\n",
    "int *ptr_arr = arr;\n",
    "for(int i = 0; i < length_arr ; i++){\n",
    "\n",
    "    cout << ptr_arr[i] << \" \";\n",
    "}\n",
    "\n",
    "cout << endl;\n",
    "for(int i = 0; i < length_arr ; i++){\n",
    "\n",
    "    cout << *(ptr_arr + i)  << \" \";\n",
    "}\n",
    "\n"
   ]
  },
  {
   "cell_type": "markdown",
   "metadata": {},
   "source": []
  },
  {
   "cell_type": "markdown",
   "metadata": {},
   "source": [
    "### 2d-array"
   ]
  },
  {
   "cell_type": "code",
   "execution_count": 39,
   "metadata": {},
   "outputs": [
    {
     "name": "stdout",
     "output_type": "stream",
     "text": [
      "total elements = 100\n",
      "total rows = 10\n",
      "total columns = 10\n"
     ]
    }
   ],
   "source": [
    "// 2d-array\n",
    "\n",
    "float arr[10][10];\n",
    "\n",
    "\n",
    "cout << \"total elements = \" << sizeof(arr)/sizeof(arr[0][0]) << endl;\n",
    "int total_elements = sizeof(arr) /sizeof(arr[0][0]);\n",
    "\n",
    "cout << \"total rows = \" << sizeof(arr) / sizeof(arr[0]) << endl;\n",
    "int total_rows =sizeof(arr) / sizeof(arr[0]);\n",
    "\n",
    "cout << \"total columns = \" <<  sizeof(arr[0]) /sizeof(arr[0][0]) << endl;\n",
    "int total_columns = sizeof(arr[0]) /sizeof(arr[0][0]);\n",
    "\n",
    "int couter = 1;\n",
    "\n",
    "\n",
    "for(int i = 0; i < total_rows; i++){\n",
    "\n",
    "    for(int j = 0; j < total_columns; j++){\n",
    "        arr[i][j] = couter;\n",
    "        couter++;\n",
    "    }\n",
    "}\n",
    "\n"
   ]
  },
  {
   "cell_type": "code",
   "execution_count": 40,
   "metadata": {},
   "outputs": [
    {
     "name": "stdout",
     "output_type": "stream",
     "text": [
      "1 2 3 4 5 6 7 8 9 10 \n",
      "11 12 13 14 15 16 17 18 19 20 \n",
      "21 22 23 24 25 26 27 28 29 30 \n",
      "31 32 33 34 35 36 37 38 39 40 \n",
      "41 42 43 44 45 46 47 48 49 50 \n",
      "51 52 53 54 55 56 57 58 59 60 \n",
      "61 62 63 64 65 66 67 68 69 70 \n",
      "71 72 73 74 75 76 77 78 79 80 \n",
      "81 82 83 84 85 86 87 88 89 90 \n",
      "91 92 93 94 95 96 97 98 99 100 \n"
     ]
    }
   ],
   "source": [
    "for(int i = 0; i < total_rows; i++){\n",
    "\n",
    "    for(int j = 0; j < total_columns; j++){\n",
    "        cout << arr[i][j] << \" \";\n",
    "    }\n",
    "    cout << endl;\n",
    "}"
   ]
  },
  {
   "cell_type": "code",
   "execution_count": 42,
   "metadata": {},
   "outputs": [
    {
     "name": "stdout",
     "output_type": "stream",
     "text": [
      "1 2 3 4 5 6 7 8 9 10 \n",
      "11 12 13 14 15 16 17 18 19 20 \n",
      "21 22 23 24 25 26 27 28 29 30 \n",
      "31 32 33 34 35 36 37 38 39 40 \n",
      "41 42 43 44 45 46 47 48 49 50 \n",
      "51 52 53 54 55 56 57 58 59 60 \n",
      "61 62 63 64 65 66 67 68 69 70 \n",
      "71 72 73 74 75 76 77 78 79 80 \n",
      "81 82 83 84 85 86 87 88 89 90 \n",
      "91 92 93 94 95 96 97 98 99 100 \n"
     ]
    }
   ],
   "source": [
    "for(int i = 0; i < total_rows; i++){\n",
    "\n",
    "    for(int j = 0; j < total_columns; j++){\n",
    "        cout << *(*(arr+i)+j) << \" \";\n",
    "    }\n",
    "    cout << endl;\n",
    "}"
   ]
  },
  {
   "cell_type": "markdown",
   "metadata": {},
   "source": [
    "### you cannot assign the array address of 2d to pointer"
   ]
  },
  {
   "cell_type": "code",
   "execution_count": 69,
   "metadata": {},
   "outputs": [
    {
     "name": "stderr",
     "output_type": "stream",
     "text": [
      "input_line_85:7:17: error: indirection requires pointer operand ('float' invalid)\n",
      "        cout << *(*(ptr_row+i)+j) << \" \";\n",
      "                ^~~~~~~~~~~~~~~~~\n"
     ]
    },
    {
     "ename": "Interpreter Error",
     "evalue": "",
     "output_type": "error",
     "traceback": [
      "Interpreter Error: "
     ]
    }
   ],
   "source": [
    "\n",
    "// cannot do pointer arithmetic on *ptr_arr\n",
    "float *ptr_arr = &arr[0][0];\n",
    "\n",
    "for(int i = 0; i < total_rows; i++){\n",
    "    float *ptr_row = &*(ptr_arr+i);\n",
    "    for(int j = 0; j < total_columns; j++){\n",
    "        cout << *(*(ptr_row+i)+j) << \" \";\n",
    "    }\n",
    "    cout << endl;\n",
    "}"
   ]
  }
 ],
 "metadata": {
  "kernelspec": {
   "display_name": "C++11",
   "language": "C++11",
   "name": "xcpp11"
  },
  "language_info": {
   "codemirror_mode": "text/x-c++src",
   "file_extension": ".cpp",
   "mimetype": "text/x-c++src",
   "name": "C++11",
   "version": "11"
  },
  "orig_nbformat": 4
 },
 "nbformat": 4,
 "nbformat_minor": 2
}
