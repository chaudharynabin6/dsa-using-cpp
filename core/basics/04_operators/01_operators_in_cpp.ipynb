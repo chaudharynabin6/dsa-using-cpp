{
 "cells": [
  {
   "cell_type": "markdown",
   "metadata": {},
   "source": [
    "# Operators in C / C++\n",
    "\n",
    "https://www.geeksforgeeks.org/operators-c-c/"
   ]
  },
  {
   "cell_type": "markdown",
   "metadata": {},
   "source": [
    " operators as symbols that help us to perform specific mathematical and logical computations on operands. "
   ]
  },
  {
   "cell_type": "markdown",
   "metadata": {},
   "source": [
    "C/C++ has many built-in operators and can be classified into 6 types:\n",
    "\n",
    "1. Arithmetic Operators\n",
    "1. Relational Operators\n",
    "1. Logical Operators\n",
    "1. Bitwise Operators\n",
    "1. Assignment Operators\n",
    "1. Other Operators"
   ]
  },
  {
   "cell_type": "code",
   "execution_count": 13,
   "metadata": {},
   "outputs": [
    {
     "name": "stdout",
     "output_type": "stream",
     "text": [
      "a = 00000101\n",
      "b = 00001001\n",
      "a^b = 12\n",
      "a^b = 00001100\n",
      "__________________\n",
      "-6\n",
      "11111010\n"
     ]
    },
    {
     "data": {
      "text/plain": [
       "@0x7fb418eb9ba0"
      ]
     },
     "execution_count": 13,
     "metadata": {},
     "output_type": "execute_result"
    }
   ],
   "source": [
    "// bitwise operators\n",
    "\n",
    "// https://www.programiz.com/c-programming/bitwise-operators\n",
    "\n",
    "#include <iostream>\n",
    "#include <bitset>\n",
    "using namespace std;\n",
    "\n",
    "int a = 5, b = 9;   // a = 5(00000101), b = 9(00001001)\n",
    "\n",
    "// https://stackoverflow.com/questions/7349689/how-to-print-using-cout-a-number-in-binary-form\n",
    "cout << \"a = \" <<std::bitset<8>(a) << endl;\n",
    "cout << \"b = \" <<std::bitset<8>(b) << endl;\n",
    "\n",
    "\n",
    "int a_and_b = a ^ b;\n",
    "std::bitset<8> bit_a_xor_b(a_and_b); \n",
    "cout <<\"a^b = \" << (a ^ b)<<endl;   //  00001100\n",
    "cout <<\"a^b = \" << bit_a_xor_b << endl; //  00001100\n",
    "\n",
    "cout << \"__________________\" << endl;\n",
    "int negation_a = ~a;\n",
    "std::bitset<8> bit_negation_a(negation_a);\n",
    "cout <<(~a) << endl;       // 11111010\n",
    "cout << bit_negation_a << endl; // 11111010\n"
   ]
  },
  {
   "cell_type": "markdown",
   "metadata": {},
   "source": [
    "# Precedence of operator\n",
    "\n",
    "**Suggestion:** use small bracket to avoid confusion"
   ]
  }
 ],
 "metadata": {
  "kernelspec": {
   "display_name": "C++11",
   "language": "C++11",
   "name": "xcpp11"
  },
  "language_info": {
   "codemirror_mode": "text/x-c++src",
   "file_extension": ".cpp",
   "mimetype": "text/x-c++src",
   "name": "C++11",
   "version": "11"
  },
  "orig_nbformat": 4
 },
 "nbformat": 4,
 "nbformat_minor": 2
}
