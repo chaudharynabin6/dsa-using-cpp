{
 "cells": [
  {
   "cell_type": "code",
   "execution_count": 2,
   "metadata": {},
   "outputs": [],
   "source": [
    "#include <iostream>\n",
    "#include <utility>\n",
    "\n",
    "using namespace std;"
   ]
  },
  {
   "cell_type": "markdown",
   "metadata": {},
   "source": [
    "# Introduction\n",
    "https://www.geeksforgeeks.org/object-oriented-programming-in-cpp/\n",
    "\n",
    "\n",
    "**TABLE OF CONTENT:**\n",
    "\n",
    "1. Introduction\n",
    "1. Class\n",
    "1. Objects\n",
    "1. Encapsulation\n",
    "1. Abstraction\n",
    "1. Polymorphism\n",
    "1. Inheritance\n",
    "1. Dynamic Binding\n",
    "1. Message Passing"
   ]
  },
  {
   "cell_type": "markdown",
   "metadata": {},
   "source": [
    "## Introduction\n",
    "\n",
    "* Object-oriented programming aims to implement real-world entities like inheritance, hiding, polymorphism, etc in programming. \n",
    "* The main aim of OOP is to bind together the data and the functions that operate on them so that no other part of the code can access this data except that function."
   ]
  },
  {
   "cell_type": "markdown",
   "metadata": {},
   "source": [
    "## Class\n",
    "\n",
    "*  A Class is a user-defined data-type which has data members and member functions.\n",
    "* Data members are the data variables and member functions are the functions used to manipulate these variables and together these data members and member functions define the properties and behaviour of the objects in a Class.\n",
    "In the above example o"
   ]
  },
  {
   "cell_type": "code",
   "execution_count": 3,
   "metadata": {},
   "outputs": [],
   "source": [
    "class person\n",
    "{\n",
    "\tchar name[20];\n",
    "\tint id;\n",
    "public:\n",
    "\tvoid getdetails(){}\n",
    "};\n",
    "\n",
    "\n",
    " person p1; // p1 is a object \n"
   ]
  },
  {
   "cell_type": "markdown",
   "metadata": {},
   "source": [
    "##  Encapsulation:\n",
    " * In normal terms, Encapsulation is defined as wrapping up of data and information under a single unit. \n",
    " * In Object-Oriented Programming, Encapsulation is defined as binding together the data and the functions that manipulate them.\n",
    "* Encapsulation also leads to data abstraction or hiding. As using encapsulation also hides the data."
   ]
  },
  {
   "cell_type": "markdown",
   "metadata": {},
   "source": [
    "## Abstraction:\n",
    "\n",
    "*  Data abstraction is one of the most essential and important features of object-oriented programming in C++.\n",
    "*  Abstraction means displaying only essential information and hiding the details. Data abstraction refers to providing only essential information about the data to the outside world, hiding the background details or implementation.\n",
    "\n",
    "* abstraction using Classes: We can implement Abstraction in C++ using classes. The class helps us to group data members and member functions using available access specifiers. A Class can decide which data member will be visible to the outside world and which is not.\n",
    "\n",
    "* Abstraction in Header files: One more type of abstraction in C++ can be header files. For example, consider the pow() method present in math.h header file. Whenever we need to calculate the power of a number, we simply call the function pow() present in the math.h header file and pass the numbers as arguments without knowing the underlying algorithm according to which the function is actually calculating the power of numbers."
   ]
  },
  {
   "cell_type": "markdown",
   "metadata": {},
   "source": [
    "## Polymorphism:\n",
    "\n",
    "*  The word polymorphism means having many forms. In simple words, we can define polymorphism as the ability of a message to be displayed in more than one form.\n",
    "\n",
    "* An operation may exhibit different behaviours in different instances. The behaviour depends upon the types of data used in the operation.\n",
    "\n",
    "* C++ supports operator overloading and function overloading.\n",
    "\n",
    "    * Operator Overloading: The process of making an operator to exhibit different behaviours in different instances is known as operator overloading.\n",
    "    * Function Overloading: Function overloading is using a single function name to perform different types of tasks.\n",
    "    Polymorphism is extensively used in implementing inheritance.\n",
    "    * Polymorphism is extensively used in implementing inheritance."
   ]
  },
  {
   "cell_type": "markdown",
   "metadata": {},
   "source": [
    "## Inheritance:\n",
    " The capability of a class to derive properties and characteristics from another class is called Inheritance.\n",
    "\n",
    "* Sub Class: The class that inherits properties from another class is called Sub class or Derived Class.\n",
    "* Super Class:The class whose properties are inherited by sub class is called Base Class or Super class.\n",
    "\n",
    "##  Dynamic Binding:\n",
    " In dynamic binding, the code to be executed in response to function call is decided at runtime. C++ has virtual functions to support this.\n",
    "\n",
    "## Message Passing:\n",
    " Objects communicate with one another by sending and receiving information to each other. A message for an object is a request for execution of a procedure and therefore will invoke a function in the receiving object that generates the desired results. Message passing involves specifying the name of the object, the name of the function and the information to be sent."
   ]
  }
 ],
 "metadata": {
  "kernelspec": {
   "display_name": "C++14",
   "language": "C++14",
   "name": "xcpp14"
  },
  "language_info": {
   "codemirror_mode": "text/x-c++src",
   "file_extension": ".cpp",
   "mimetype": "text/x-c++src",
   "name": "c++",
   "version": "14"
  },
  "orig_nbformat": 4
 },
 "nbformat": 4,
 "nbformat_minor": 2
}
