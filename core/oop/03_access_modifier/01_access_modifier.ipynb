{
 "cells": [
  {
   "cell_type": "markdown",
   "metadata": {},
   "source": [
    "# Access Modifiers in C++\n",
    "\n",
    "https://www.geeksforgeeks.org/access-modifiers-in-c/\n",
    "\n",
    "\n",
    "Access Modifiers or Access Specifiers in a class are used to assign the accessibility to the class members. That is, it sets some restrictions on the class members not to get directly accessed by the outside functions.\n",
    "\n",
    "\n",
    "There are 3 types of access modifiers available in C++: \n",
    "\n",
    "* Public\n",
    "* Private\n",
    "* Protected"
   ]
  },
  {
   "cell_type": "markdown",
   "metadata": {},
   "source": [
    "1. Public: All the class members declared under the public specifier will be available to everyone. The data members and member functions declared as public can be accessed by other classes and functions too. The public members of a class can be accessed from anywhere in the program using the direct member access operator (.) with the object of that class. \n",
    "\n",
    "2. Private: The class members declared as private can be accessed only by the member functions inside the class. They are not allowed to be accessed directly by any object or function outside the class. Only the member functions or the friend functions are allowed to access the private data members of a class. \n",
    "\n",
    "3. Protected: Protected access modifier is similar to private access modifier in the sense that it can’t be accessed outside of it’s class unless with the help of friend class, the difference is that the class members declared as Protected can be accessed by any subclass(derived class) of that class as well. "
   ]
  },
  {
   "cell_type": "code",
   "execution_count": 7,
   "metadata": {},
   "outputs": [
    {
     "name": "stdout",
     "output_type": "stream",
     "text": [
      "Radius is: 5.5\n",
      "Area is: 94.985"
     ]
    }
   ],
   "source": [
    "// C++ program to demonstrate public\n",
    "// access modifier\n",
    "\n",
    "#include<iostream>\n",
    "using namespace std;\n",
    "\n",
    "// class definition\n",
    "class Circle\n",
    "{\n",
    "\tpublic:\n",
    "\t\tdouble radius;\n",
    "\t\t\n",
    "\t\tdouble compute_area()\n",
    "\t\t{\n",
    "\t\t\treturn 3.14*radius*radius;\n",
    "\t\t}\n",
    "\t\n",
    "};\n",
    "\n",
    "// main function\n",
    "class MainPublic{\n",
    "    public: \n",
    "\n",
    "        int main()\n",
    "        {\n",
    "            Circle obj;\n",
    "            \n",
    "            // accessing public datamember outside class\n",
    "            obj.radius = 5.5;\n",
    "            \n",
    "            cout << \"Radius is: \" << obj.radius << \"\\n\";\n",
    "            cout << \"Area is: \" << obj.compute_area();\n",
    "            return 0;\n",
    "    \n",
    "        }\n",
    "};\n",
    "\n",
    "MainPublic a;\n",
    "\n",
    "a.main();\n"
   ]
  },
  {
   "cell_type": "code",
   "execution_count": 8,
   "metadata": {},
   "outputs": [
    {
     "name": "stderr",
     "output_type": "stream",
     "text": [
      "input_line_36:28:21: error: 'radius' is a private member of 'Circle'\n",
      "                obj.radius = 1.5;\n",
      "                    ^\n",
      "input_line_36:7:10: note: declared private here\n",
      "                double radius;\n",
      "                       ^\n"
     ]
    },
    {
     "ename": "Interpreter Error",
     "evalue": "",
     "output_type": "error",
     "traceback": [
      "Interpreter Error: "
     ]
    }
   ],
   "source": [
    "// C++ program to demonstrate private\n",
    "// access modifier\n",
    "\n",
    "#include<iostream>\n",
    "using namespace std;\n",
    "\n",
    "class Circle\n",
    "{\n",
    "\t// private data member\n",
    "\tprivate:\n",
    "\t\tdouble radius;\n",
    "\t\n",
    "\t// public member function\n",
    "\tpublic:\n",
    "\t\tdouble compute_area()\n",
    "\t\t{ // member function can access private\n",
    "\t\t\t// data member radius\n",
    "\t\t\treturn 3.14*radius*radius;\n",
    "\t\t}\n",
    "\t\n",
    "};\n",
    "\n",
    "// main function\n",
    "class MainPrivate{\n",
    "    public: \n",
    "        int main()\n",
    "            {\n",
    "                // creating object of the class\n",
    "                Circle obj;\n",
    "                \n",
    "                // trying to access private data member\n",
    "                // directly outside the class\n",
    "                obj.radius = 1.5;\n",
    "                \n",
    "                cout << \"Area is:\" << obj.compute_area();\n",
    "                return 0;\n",
    "            }\n",
    "};\n",
    "\n",
    "MainPrivate a;\n",
    "\n",
    "a.main();\n"
   ]
  },
  {
   "cell_type": "code",
   "execution_count": 9,
   "metadata": {},
   "outputs": [
    {
     "name": "stdout",
     "output_type": "stream",
     "text": [
      "id_protected is: 81\n"
     ]
    }
   ],
   "source": [
    "// C++ program to demonstrate\n",
    "// protected access modifier\n",
    "#include <bits/stdc++.h>\n",
    "using namespace std;\n",
    "\n",
    "// base class\n",
    "class Parent\n",
    "{\n",
    "\t// protected data members\n",
    "\tprotected:\n",
    "\tint id_protected;\n",
    "\t\n",
    "};\n",
    "\n",
    "// sub class or derived class from public base class\n",
    "class Child : public Parent\n",
    "{\n",
    "\tpublic:\n",
    "\tvoid setId(int id)\n",
    "\t{\n",
    "\t\t\n",
    "\t\t// Child class is able to access the inherited\n",
    "\t\t// protected data members of base class\n",
    "\t\t\n",
    "\t\tid_protected = id;\n",
    "\t\t\n",
    "\t}\n",
    "\t\n",
    "\tvoid displayId()\n",
    "\t{\n",
    "\t\tcout << \"id_protected is: \" << id_protected << endl;\n",
    "\t}\n",
    "};\n",
    "\n",
    "// main function\n",
    "\n",
    "class MainProtected{\n",
    "    public : \n",
    "    int main() {\n",
    "        \n",
    "            Child obj1;\n",
    "                \n",
    "            // member function of the derived class can\n",
    "            // access the protected data members of the base class\n",
    "            \n",
    "            obj1.setId(81);\n",
    "            obj1.displayId();\n",
    "            return 0;\n",
    "        }\n",
    "};\n",
    "\n",
    "MainProtected m;\n",
    "m.main();\n"
   ]
  },
  {
   "cell_type": "markdown",
   "metadata": {},
   "source": [
    "# Use case"
   ]
  },
  {
   "cell_type": "code",
   "execution_count": 6,
   "metadata": {},
   "outputs": [
    {
     "name": "stdout",
     "output_type": "stream",
     "text": [
      "Radius is: 1.5\n",
      "Area is: 7.065"
     ]
    },
    {
     "data": {
      "text/plain": [
       "0"
      ]
     },
     "execution_count": 6,
     "metadata": {},
     "output_type": "execute_result"
    }
   ],
   "source": [
    "// C++ program to demonstrate private\n",
    "// access modifier\n",
    "\n",
    "#include<iostream>\n",
    "using namespace std;\n",
    "\n",
    "class Circle\n",
    "{\n",
    "\t// private data member\n",
    "\tprivate:\n",
    "\t\tdouble radius;\n",
    "\t\n",
    "\t// public member function\n",
    "\tpublic:\n",
    "\t\tvoid compute_area(double r)\n",
    "\t\t{ // member function can access private\n",
    "\t\t\t// data member radius\n",
    "\t\t\tradius = r;\n",
    "\t\t\t\n",
    "\t\t\tdouble area = 3.14*radius*radius;\n",
    "\t\t\t\n",
    "\t\t\tcout << \"Radius is: \" << radius << endl;\n",
    "\t\t\tcout << \"Area is: \" << area;\n",
    "\t\t}\n",
    "\t\n",
    "};\n",
    "\n",
    "// main function\n",
    "\n",
    "class MainUsecase{\n",
    "    public : \n",
    "    int main()\n",
    "    {\n",
    "        // creating object of the class\n",
    "        Circle obj;\n",
    "        \n",
    "        // trying to access private data member\n",
    "        // directly outside the class\n",
    "        obj.compute_area(1.5);\n",
    "        \n",
    "        \n",
    "        return 0;\n",
    "    }\n",
    "};\n",
    "\n",
    "MainUsecase m;\n",
    "m.main();\n",
    "\n",
    "\n"
   ]
  }
 ],
 "metadata": {
  "kernelspec": {
   "display_name": "C++11",
   "language": "C++11",
   "name": "xcpp11"
  },
  "language_info": {
   "codemirror_mode": "text/x-c++src",
   "file_extension": ".cpp",
   "mimetype": "text/x-c++src",
   "name": "C++11",
   "version": "11"
  },
  "orig_nbformat": 4
 },
 "nbformat": 4,
 "nbformat_minor": 2
}
