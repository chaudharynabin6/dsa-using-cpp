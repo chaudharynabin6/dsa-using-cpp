{
 "cells": [
  {
   "cell_type": "markdown",
   "metadata": {},
   "source": [
    "# Polymorphism in c++\n",
    "\n",
    "https://www.geeksforgeeks.org/polymorphism-in-c/\n",
    "\n",
    "\n",
    "In C++ polymorphism is mainly divided into two types:\n",
    "\n",
    "* Compile time Polymorphism\n",
    "    * function overloading\n",
    "    * operator overloading\n",
    "* Runtime Polymorphism\n",
    "    * virtual function\n"
   ]
  },
  {
   "cell_type": "markdown",
   "metadata": {},
   "source": [
    "## Compile time polymorphism"
   ]
  },
  {
   "cell_type": "markdown",
   "metadata": {},
   "source": [
    "### function overloading"
   ]
  },
  {
   "cell_type": "code",
   "execution_count": 1,
   "metadata": {},
   "outputs": [
    {
     "name": "stdout",
     "output_type": "stream",
     "text": [
      "value of x is 7\n",
      "value of x is 9.132\n",
      "value of x and y is 85, 64\n"
     ]
    }
   ],
   "source": [
    "// C++ program for function overloading\n",
    "#include <bits/stdc++.h>\n",
    "\n",
    "using namespace std;\n",
    "class Geeks\n",
    "{\n",
    "\tpublic:\n",
    "\t\n",
    "\t// function with 1 int parameter\n",
    "\tvoid func(int x)\n",
    "\t{\n",
    "\t\tcout << \"value of x is \" << x << endl;\n",
    "\t}\n",
    "\t\n",
    "\t// function with same name but 1 double parameter\n",
    "\tvoid func(double x)\n",
    "\t{\n",
    "\t\tcout << \"value of x is \" << x << endl;\n",
    "\t}\n",
    "\t\n",
    "\t// function with same name and 2 int parameters\n",
    "\tvoid func(int x, int y)\n",
    "\t{\n",
    "\t\tcout << \"value of x and y is \" << x << \", \" << y << endl;\n",
    "\t}\n",
    "};\n",
    "\n",
    "class FunctionOverloading{\n",
    "    public : \n",
    "    int main() {\n",
    "\t\n",
    "\tGeeks obj1;\n",
    "\t\n",
    "\t// Which function is called will depend on the parameters passed\n",
    "\t// The first 'func' is called\n",
    "\tobj1.func(7);\n",
    "\t\n",
    "\t// The second 'func' is called\n",
    "\tobj1.func(9.132);\n",
    "\t\n",
    "\t// The third 'func' is called\n",
    "\tobj1.func(85,64);\n",
    "\treturn 0;\n",
    "}\n",
    "};\n",
    "\n",
    "\n",
    "FunctionOverloading m;\n",
    "m.main();"
   ]
  },
  {
   "cell_type": "markdown",
   "metadata": {},
   "source": [
    "### Operator Overloading\n",
    "\n"
   ]
  },
  {
   "cell_type": "code",
   "execution_count": 1,
   "metadata": {},
   "outputs": [
    {
     "name": "stdout",
     "output_type": "stream",
     "text": [
      "12 + i9\n"
     ]
    }
   ],
   "source": [
    "// CPP program to illustrate\n",
    "// Operator Overloading\n",
    "#include<iostream>\n",
    "using namespace std;\n",
    "\n",
    "class Complex {\n",
    "private:\n",
    "\tint real, imag;\n",
    "public:\n",
    "\tComplex(int r = 0, int i =0) {real = r; imag = i;}\n",
    "\t\n",
    "\t// This is automatically called when '+' is used with\n",
    "\t// between two Complex objects\n",
    "\tComplex operator + (Complex const &obj) {\n",
    "\t\tComplex res;\n",
    "\t\tres.real = real + obj.real;\n",
    "\t\tres.imag = imag + obj.imag;\n",
    "\t\treturn res;\n",
    "\t}\n",
    "\tvoid print() { cout << real << \" + i\" << imag << endl; }\n",
    "};\n",
    "class OperatorOverloading{\n",
    "    public : \n",
    "    int main()\n",
    "    {\n",
    "        Complex c1(10, 5), c2(2, 4);\n",
    "        Complex c3 = c1 + c2; // An example call to \"operator+\"\n",
    "        c3.print();\n",
    "        return 0;\n",
    "    }\n",
    "};\n",
    "\n",
    "OperatorOverloading m;\n",
    "m.main();\n"
   ]
  },
  {
   "cell_type": "markdown",
   "metadata": {},
   "source": [
    "## Runtime Polymorphism"
   ]
  },
  {
   "cell_type": "code",
   "execution_count": 1,
   "metadata": {},
   "outputs": [
    {
     "name": "stdout",
     "output_type": "stream",
     "text": [
      "print derived class\n",
      "show base class\n",
      "print derived class\n",
      "show derived class\n"
     ]
    },
    {
     "data": {
      "text/plain": [
       "0"
      ]
     },
     "execution_count": 1,
     "metadata": {},
     "output_type": "execute_result"
    }
   ],
   "source": [
    "// C++ program for function overriding\n",
    "\n",
    "#include <bits/stdc++.h>\n",
    "using namespace std;\n",
    "\n",
    "class base\n",
    "{\n",
    "public:\n",
    "\tvirtual void print ()\n",
    "\t{ cout<< \"print base class\" <<endl; }\n",
    "\n",
    "\tvoid show ()\n",
    "\t{ cout<< \"show base class\" <<endl; }\n",
    "};\n",
    "\n",
    "class derived:public base\n",
    "{\n",
    "public:\n",
    "\tvoid print () //print () is already virtual function in derived class, we could also declared as virtual void print () explicitly\n",
    "\t{ cout<< \"print derived class\" <<endl; }\n",
    "\n",
    "\tvoid show ()\n",
    "\t{ cout<< \"show derived class\" <<endl; }\n",
    "};\n",
    "\n",
    "//main function\n",
    "class RuntimePolymorphism {\n",
    "    public :\n",
    "    int main_using_base_pointer()\n",
    "    {\n",
    "        // using basepointer\n",
    "        base *bptr;\n",
    "        derived d;\n",
    "        bptr = &d;\n",
    "        \n",
    "        //virtual function, binded at runtime (Runtime polymorphism)\n",
    "        bptr->print();\n",
    "        \n",
    "        // Non-virtual function, binded at compile time\n",
    "        bptr->show();\n",
    "\n",
    "        return 0;\n",
    "    }\n",
    "    int main_using_derived_pointer()\n",
    "    {\n",
    "        // using basepointer\n",
    "        derived *bptr;\n",
    "        // assigning to 'derived *' from incompatible type 'base *'\n",
    "        //ERROR: base d;\n",
    "        \n",
    "        derived d;\n",
    "        bptr = &d;\n",
    "        \n",
    "        //virtual function, binded at runtime (Runtime polymorphism)\n",
    "        bptr->print();\n",
    "        \n",
    "        // Non-virtual function, binded at compile time\n",
    "        bptr->show();\n",
    "\n",
    "        return 0;\n",
    "    }\n",
    "};\n",
    "\n",
    "RuntimePolymorphism m;\n",
    "m.main_using_base_pointer();\n",
    "m.main_using_derived_pointer();\n",
    "\n"
   ]
  }
 ],
 "metadata": {
  "kernelspec": {
   "display_name": "C++11",
   "language": "C++11",
   "name": "xcpp11"
  },
  "language_info": {
   "codemirror_mode": "text/x-c++src",
   "file_extension": ".cpp",
   "mimetype": "text/x-c++src",
   "name": "c++",
   "version": "11"
  },
  "orig_nbformat": 4
 },
 "nbformat": 4,
 "nbformat_minor": 2
}
