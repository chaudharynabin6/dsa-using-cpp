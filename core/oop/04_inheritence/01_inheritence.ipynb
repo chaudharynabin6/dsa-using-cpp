{
 "cells": [
  {
   "cell_type": "markdown",
   "metadata": {},
   "source": [
    "**keywords**\n",
    "sub class or derived class , base class or super class"
   ]
  },
  {
   "cell_type": "markdown",
   "metadata": {},
   "source": [
    "# Inheritance in C++\n",
    "\n",
    "https://www.geeksforgeeks.org/inheritance-in-c/\n",
    "\n",
    "The article is divided into following subtopics: \n",
    "\n",
    "1. Why and when to use inheritance?\n",
    "1. Modes of Inheritance\n",
    "1. Types of Inheritance"
   ]
  },
  {
   "cell_type": "markdown",
   "metadata": {},
   "source": [
    "##  Why and when to use inheritance?\n",
    "\n",
    "goto link"
   ]
  },
  {
   "cell_type": "markdown",
   "metadata": {},
   "source": [
    "### Implementing inheritance in C++: \n",
    "\n",
    "For creating a sub-class which is inherited from the base class we have to follow the below syntax. \n",
    "\n",
    "```c++\n",
    "class subclass_name : access_mode base_class_name\n",
    "{\n",
    "  // body of subclass\n",
    "};\n",
    "```"
   ]
  },
  {
   "cell_type": "code",
   "execution_count": 4,
   "metadata": {},
   "outputs": [
    {
     "name": "stdout",
     "output_type": "stream",
     "text": [
      "Child id is: 7\n",
      "Parent id is: 91\n"
     ]
    }
   ],
   "source": [
    "// C++ program to demonstrate implementation\n",
    "// of Inheritance\n",
    "\n",
    "#include <bits/stdc++.h>\n",
    "using namespace std;\n",
    "\n",
    "// Base class\n",
    "class Parent\n",
    "{\n",
    "public:\n",
    "\tint id_p;\n",
    "};\n",
    "\n",
    "// Sub class inheriting from Base Class(Parent)\n",
    "class Child : public Parent\n",
    "{\n",
    "public:\n",
    "\tint id_c;\n",
    "};\n",
    "\n",
    "// main function\n",
    "class MainImplementation{\n",
    "    public : \n",
    "    int main()\n",
    "    {\n",
    "        Child obj1;\n",
    "            \n",
    "        // An object of class child has all data members\n",
    "        // and member functions of class parent\n",
    "        obj1.id_c = 7;\n",
    "        obj1.id_p = 91;\n",
    "        cout << \"Child id is: \" << obj1.id_c << '\\n';\n",
    "        cout << \"Parent id is: \" << obj1.id_p << '\\n';\n",
    "            \n",
    "        return 0;\n",
    "    }\n",
    "};\n",
    "\n",
    "MainImplementation m;\n",
    "\n",
    "m.main();\n"
   ]
  },
  {
   "cell_type": "markdown",
   "metadata": {},
   "source": [
    "## Modes of Inheritence\n",
    "\n",
    "* public  mode\n",
    "* private mode\n",
    "* protected mode\n",
    "\n",
    "\n",
    "* for table of visibily go to above link"
   ]
  },
  {
   "cell_type": "code",
   "execution_count": 5,
   "metadata": {},
   "outputs": [],
   "source": [
    "// C++ Implementation to show that a derived class\n",
    "// doesn’t inherit access to private data members.\n",
    "// However, it does inherit a full parent object.\n",
    "class A\n",
    "{\n",
    "public:\n",
    "\tint x;\n",
    "protected:\n",
    "\tint y;\n",
    "private:\n",
    "\tint z;\n",
    "};\n",
    "\n",
    "class B : public A\n",
    "{\n",
    "\t// x is public\n",
    "\t// y is protected\n",
    "\t// z is not accessible from B\n",
    "};\n",
    "\n",
    "class C : protected A\n",
    "{\n",
    "\t// x is protected\n",
    "\t// y is protected\n",
    "\t// z is not accessible from C\n",
    "};\n",
    "\n",
    "class D : private A // 'private' is default for classes\n",
    "{\n",
    "\t// x is private\n",
    "\t// y is private\n",
    "\t// z is not accessible from D\n",
    "};\n"
   ]
  },
  {
   "cell_type": "markdown",
   "metadata": {},
   "source": [
    "## Types of Inheritance in C++"
   ]
  },
  {
   "cell_type": "markdown",
   "metadata": {},
   "source": [
    "1. Single inheritance\n",
    "1. Multiple Inheritance\n",
    "1. Multilevel Inheritance\n",
    "1. Hierarchical Inheritance\n",
    "1. Hybrid(Virtual) Inheritace\n",
    "1. Multipath Inheritance"
   ]
  },
  {
   "cell_type": "markdown",
   "metadata": {},
   "source": [
    "Ambiguity Resolution \n",
    "\n",
    "* Avoiding ambiguity using scope resolution operator: \n",
    "* Avoiding ambiguity using virtual base class: "
   ]
  },
  {
   "cell_type": "markdown",
   "metadata": {},
   "source": [
    "### Single Inheritance"
   ]
  },
  {
   "cell_type": "markdown",
   "metadata": {},
   "source": [
    "## Avoiding ambiguity using scope resolution operator"
   ]
  },
  {
   "cell_type": "code",
   "execution_count": 6,
   "metadata": {},
   "outputs": [
    {
     "name": "stdout",
     "output_type": "stream",
     "text": [
      "constructor A called\n",
      "constructor A, A::id = 1\n",
      "a.id  = 1\n",
      "constructor A called\n",
      "constructor A, A::id = 1\n",
      "constructor B called\n",
      "constructor before B , A::id = 1\n",
      "constructor after B , A::id = 101\n",
      "b.id = 2\n",
      "b.A::id = 101\n"
     ]
    }
   ],
   "source": [
    "#include <iostream>\n",
    "using namespace std;\n",
    "\n",
    "class A{\n",
    "    public:\n",
    "    int id;\n",
    "\n",
    "    A(){\n",
    "        cout << \"constructor A called\" << endl;\n",
    "      this->id = 1;  \n",
    "        cout << \"constructor A, A::id = \" << this->id << endl;\n",
    "    }\n",
    "};\n",
    "\n",
    "class B : public A{\n",
    "\n",
    "    public:\n",
    "        int id;\n",
    "\n",
    "        B(){  \n",
    "            cout << \"constructor B called\" << endl;\n",
    "            cout << \"constructor before B , A::id = \" << this->A::id << endl;\n",
    "            this->A::id = 101;\n",
    "            this->id = 2;\n",
    "            cout << \"constructor after B , A::id = \" << this->A::id << endl;\n",
    "\n",
    "            \n",
    "        }\n",
    "};\n",
    "\n",
    "class SingleInheritance{\n",
    "    public :\n",
    "    void main(){\n",
    "        A a;\n",
    "        cout << \"a.id  = \" << a.id << endl;\n",
    "\n",
    "        B b;\n",
    "        cout << \"b.id = \" << b.id << endl;\n",
    "\n",
    "        cout << \"b.A::id = \" << b.A::id << endl;\n",
    "    }\n",
    "};\n",
    "\n",
    "SingleInheritance m;\n",
    "m.main();\n"
   ]
  },
  {
   "cell_type": "code",
   "execution_count": 7,
   "metadata": {},
   "outputs": [
    {
     "name": "stdout",
     "output_type": "stream",
     "text": [
      "Dog.name : Seru\n",
      "Cat.name\tCat.leg\t\n",
      "---------\t-----------\n",
      "Silu\t\t4\n"
     ]
    },
    {
     "data": {
      "text/plain": [
       "@0x7ff67cce6ba0"
      ]
     },
     "execution_count": 7,
     "metadata": {},
     "output_type": "execute_result"
    }
   ],
   "source": [
    "#include <iostream>\n",
    "\n",
    "using namespace std;\n",
    "\n",
    "class Animal{\n",
    "    public:\n",
    "    string name;\n",
    "};\n",
    "class Mammal : public Animal{\n",
    "    public:\n",
    "    int leg;\n",
    "};\n",
    "\n",
    "Animal Dog;\n",
    "Dog.name = \"Seru\";\n",
    "\n",
    "cout << \"Dog.name : \" << Dog.name << endl;\n",
    "\n",
    "Mammal Cat;\n",
    "Cat.name = \"Silu\";\n",
    "Cat.leg = 4;\n",
    "\n",
    "cout << \"Cat.name\\t\" << \"Cat.leg\\t\" << endl;\n",
    "cout << \"---------\\t\" << \"-----------\" << endl;\n",
    "cout << Cat.name << \"\\t\\t\" << Cat.leg << endl;\n",
    "\n"
   ]
  },
  {
   "cell_type": "markdown",
   "metadata": {},
   "source": [
    "## Multiple Inheritance"
   ]
  },
  {
   "cell_type": "code",
   "execution_count": 8,
   "metadata": {},
   "outputs": [
    {
     "name": "stdout",
     "output_type": "stream",
     "text": [
      "constructor A called\n",
      "constructor A, A::id = 1\n",
      "constructor A called\n",
      "constructor A, A::id = 1\n",
      "constructor B called\n",
      "constructor before B , A::id = 1\n",
      "constructor after B , A::id = 101\n",
      "c_obj class_a_name : \n",
      "c_obj class_b_name : \n",
      "c_obj class_c_name : class C\n"
     ]
    }
   ],
   "source": [
    "#include <iostream>\n",
    "using namespace std;\n",
    "\n",
    "\n",
    "class A{\n",
    "    public:\n",
    "    string class_a_name = \"class A\";\n",
    "};\n",
    "\n",
    "class B{\n",
    "    public:\n",
    "    string class_b_name = \"class B\";\n",
    "};\n",
    "\n",
    "class C : public A, public B{\n",
    "\n",
    "    public:\n",
    "    string class_c_name = \"class C\";\n",
    "};\n",
    "\n",
    "\n",
    "C c_obj;\n",
    "\n",
    "cout << \"c_obj class_a_name : \" << c_obj.class_a_name << endl;\n",
    "cout << \"c_obj class_b_name : \" << c_obj.class_b_name << endl;\n",
    "cout << \"c_obj class_c_name : \" << c_obj.class_c_name << endl;\n"
   ]
  },
  {
   "cell_type": "markdown",
   "metadata": {},
   "source": [
    "## Avoiding Abiguity using virtual base class"
   ]
  },
  {
   "cell_type": "markdown",
   "metadata": {},
   "source": [
    "**problem without virtual base class**"
   ]
  },
  {
   "cell_type": "code",
   "execution_count": 9,
   "metadata": {},
   "outputs": [
    {
     "name": "stderr",
     "output_type": "stream",
     "text": [
      "input_line_26:28:17: error: non-static member 'a' found in multiple base-class subobjects of type 'ClassA':\n",
      "    class ClassD -> class ClassB -> class ClassA\n",
      "    class ClassD -> class ClassC -> class ClassA\n",
      "            obj.a = 10;  // Statement 3\n",
      "                ^\n",
      "input_line_26:6:6: note: member found by ambiguous name lookup\n",
      "        int a;\n",
      "            ^\n",
      "input_line_26:29:17: error: non-static member 'a' found in multiple base-class subobjects of type 'ClassA':\n",
      "    class ClassD -> class ClassB -> class ClassA\n",
      "    class ClassD -> class ClassC -> class ClassA\n",
      "            obj.a = 100;         // Statement 4\n",
      "                ^\n",
      "input_line_26:6:6: note: member found by ambiguous name lookup\n",
      "        int a;\n",
      "            ^\n",
      "input_line_26:33:38: error: non-static member 'a' found in multiple base-class subobjects of type 'ClassA':\n",
      "    class ClassD -> class ClassB -> class ClassA\n",
      "    class ClassD -> class ClassC -> class ClassA\n",
      "            cout << \"\\n a : \" << obj.a;\n",
      "                                     ^\n",
      "input_line_26:6:6: note: member found by ambiguous name lookup\n",
      "        int a;\n",
      "            ^\n"
     ]
    },
    {
     "ename": "Interpreter Error",
     "evalue": "",
     "output_type": "error",
     "traceback": [
      "Interpreter Error: "
     ]
    }
   ],
   "source": [
    "#include<iostream>\n",
    "using namespace std;\n",
    "\n",
    "class ClassA\n",
    "{\n",
    "public:\n",
    "\tint a;\n",
    "};\n",
    "\n",
    "class ClassB :  public ClassA\n",
    "{\n",
    "public:\n",
    "\tint b;\n",
    "};\n",
    "\n",
    "class ClassC :  public ClassA\n",
    "{\n",
    "public:\n",
    "\tint c;\n",
    "};\n",
    "\n",
    "class ClassD : public ClassB, public ClassC\n",
    "{\n",
    "public:\n",
    "\tint d;\n",
    "};\n",
    "class VirtualBaseClass{\n",
    "    public : \n",
    "\n",
    "        int main()\n",
    "        {\n",
    "            ClassD obj;\n",
    "\n",
    "            obj.a = 10;\t // Statement 3\n",
    "            obj.a = 100;\t // Statement 4\n",
    "\n",
    "            obj.b = 20;\n",
    "            obj.c = 30;\n",
    "            obj.d = 40;\n",
    "\n",
    "            cout << \"\\n a : \" << obj.a;\n",
    "            cout << \"\\n b : \" << obj.b;\n",
    "            cout << \"\\n c : \" << obj.c;\n",
    "            cout << \"\\n d : \" << obj.d << '\\n';\n",
    "\n",
    "            return 0;\n",
    "        }\n",
    "};\n",
    "\n",
    "VirtualBaseClass m;\n",
    "m.main();\n"
   ]
  },
  {
   "cell_type": "markdown",
   "metadata": {},
   "source": [
    "**Solution**"
   ]
  },
  {
   "cell_type": "code",
   "execution_count": 10,
   "metadata": {},
   "outputs": [
    {
     "name": "stdout",
     "output_type": "stream",
     "text": [
      "\n",
      " a : 100\n",
      " b : 20\n",
      " c : 30\n",
      " d : 40\n"
     ]
    }
   ],
   "source": [
    "#include<iostream>\n",
    "using namespace std;\n",
    "\n",
    "class ClassA\n",
    "{\n",
    "public:\n",
    "\tint a;\n",
    "};\n",
    "\n",
    "class ClassB : virtual public ClassA\n",
    "{\n",
    "public:\n",
    "\tint b;\n",
    "};\n",
    "\n",
    "class ClassC : virtual public ClassA\n",
    "{\n",
    "public:\n",
    "\tint c;\n",
    "};\n",
    "\n",
    "class ClassD : public ClassB, public ClassC\n",
    "{\n",
    "public:\n",
    "\tint d;\n",
    "};\n",
    "class VirtualBaseClass{\n",
    "    public : \n",
    "\n",
    "        int main()\n",
    "        {\n",
    "            ClassD obj;\n",
    "\n",
    "            obj.a = 10;\t // Statement 3\n",
    "            obj.a = 100;\t // Statement 4\n",
    "\n",
    "            obj.b = 20;\n",
    "            obj.c = 30;\n",
    "            obj.d = 40;\n",
    "\n",
    "            cout << \"\\n a : \" << obj.a;\n",
    "            cout << \"\\n b : \" << obj.b;\n",
    "            cout << \"\\n c : \" << obj.c;\n",
    "            cout << \"\\n d : \" << obj.d << '\\n';\n",
    "\n",
    "            return 0;\n",
    "        }\n",
    "};\n",
    "\n",
    "VirtualBaseClass m;\n",
    "m.main();\n"
   ]
  }
 ],
 "metadata": {
  "kernelspec": {
   "display_name": "C++11",
   "language": "C++11",
   "name": "xcpp11"
  },
  "language_info": {
   "codemirror_mode": "text/x-c++src",
   "file_extension": ".cpp",
   "mimetype": "text/x-c++src",
   "name": "c++",
   "version": "11"
  },
  "orig_nbformat": 4
 },
 "nbformat": 4,
 "nbformat_minor": 2
}
