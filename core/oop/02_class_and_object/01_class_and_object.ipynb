{
 "cells": [
  {
   "cell_type": "code",
   "execution_count": null,
   "metadata": {},
   "outputs": [],
   "source": []
  },
  {
   "cell_type": "markdown",
   "metadata": {},
   "source": [
    "# C++ Classes and Objects\n",
    "\n",
    "https://www.geeksforgeeks.org/c-classes-and-objects/\n",
    "\n",
    "* It is a user-defined data type, which holds its own data members and member functions, which can be accessed and used by creating an instance of that class. A C++ class is like a blueprint for an object.\n",
    "\n",
    "* An Object is an instance of a Class. When a class is defined, no memory is allocated but when it is instantiated (i.e. an object is created) memory is allocated.\n",
    "\n",
    "\n"
   ]
  },
  {
   "cell_type": "markdown",
   "metadata": {},
   "source": [
    "## Accessing data members and member functions:"
   ]
  },
  {
   "cell_type": "markdown",
   "metadata": {},
   "source": [
    "#### Accessing Data Members\n",
    "\n",
    "The public data members are also accessed in the same way given however the private data members are not allowed to be accessed directly by the object. Accessing a data member depends solely on the access control of that data member."
   ]
  },
  {
   "cell_type": "code",
   "execution_count": 1,
   "metadata": {},
   "outputs": [
    {
     "name": "stdout",
     "output_type": "stream",
     "text": [
      "Geekname is: Abhi"
     ]
    }
   ],
   "source": [
    "// C++ program to demonstrate\n",
    "// accessing of data members\n",
    "#include <iostream>\n",
    "#include <utility>\n",
    "#include <bits/stdc++.h>\n",
    "\n",
    "using namespace std;\n",
    "\n",
    "class Geeks\n",
    "{\n",
    "\t// Access specifier\n",
    "\tpublic:\n",
    "\n",
    "\t// Data Members\n",
    "\tstring geekname;\n",
    "\n",
    "\t// Member Functions()\n",
    "\tvoid printname()\n",
    "\t{\n",
    "\tcout << \"Geekname is: \" << geekname;\n",
    "\t}\n",
    "};\n",
    "\n",
    "\n",
    "    // Declare an object of class geeks\n",
    "    Geeks obj1;\n",
    " \n",
    "    // accessing data member\n",
    "    obj1.geekname = \"Abhi\";\n",
    " \n",
    "    // accessing member function\n",
    "    obj1.printname();\n",
    "\n",
    "\n",
    "\n",
    "\n",
    "\n"
   ]
  },
  {
   "cell_type": "markdown",
   "metadata": {},
   "source": [
    "### Member Functions in Classes\n",
    "\n",
    "There are 2 ways to define a member function:\n",
    "\n",
    "* Inside class definition\n",
    "* Outside class definition"
   ]
  },
  {
   "cell_type": "code",
   "execution_count": 2,
   "metadata": {},
   "outputs": [
    {
     "name": "stdout",
     "output_type": "stream",
     "text": [
      "Geekname is: xyz\n",
      "Geek id is: 15"
     ]
    }
   ],
   "source": [
    "// C++ program to demonstrate function\n",
    "// declaration outside class\n",
    "#include <iostream>\n",
    "\n",
    "\n",
    "using namespace std;\n",
    "class Geeks\n",
    "{\n",
    "\tpublic:\n",
    "\t\tstring geekname;\n",
    "\t\tint id;\n",
    "\t\t\n",
    "\t\t// printname is not defined inside class definition\n",
    "\t\t// void printname();\n",
    "\t\tvoid printname(){\n",
    "\t\t\t\tcout << \"Geekname is: \" << geekname;\n",
    "\t\t}\n",
    "\t\t\n",
    "\t\t// printid is defined inside class definition\n",
    "\t\tvoid printid()\n",
    "\t\t{\n",
    "\t\t\tcout << \"Geek id is: \" << id;\n",
    "\t\t}\n",
    "};\n",
    "\n",
    "// Definition of printname using scope resolution operator ::\n",
    "// void Geeks::printname()\n",
    "// {\n",
    "// \tcout << \"Geekname is: \" << geekname;\n",
    "// }\n",
    "\n",
    "\t\n",
    "\tGeeks obj1;\n",
    "\tobj1.geekname = \"xyz\";\n",
    "\tobj1.id=15;\n",
    "\t\n",
    "\t// call printname()\n",
    "\tobj1.printname();\n",
    "\tcout << endl;\n",
    "\t\n",
    "\t// call printid()\n",
    "\tobj1.printid();\n",
    "\n",
    "\n"
   ]
  },
  {
   "cell_type": "markdown",
   "metadata": {},
   "source": [
    "## Constructors\n",
    "\n",
    "Constructors are special class members which are called by the compiler every time an object of that class is instantiated. Constructors have the same name as the class and may be defined inside or outside the class definition.\n",
    "\n",
    "\n",
    "There are 3 types of constructors:\n",
    "\n",
    "* Default constructors\n",
    "* Parameterized constructors\n",
    "* Copy constructors\n",
    "\n",
    "\n",
    "\n",
    "* A Copy Constructor creates a new object, which is exact copy of the existing object. The compiler provides a default Copy Constructor to all the classes.\n",
    "Syntax:\n",
    "\n",
    "    ```c++\n",
    "    class-name (class-name &){}\n",
    "    ```\n"
   ]
  },
  {
   "cell_type": "code",
   "execution_count": 3,
   "metadata": {},
   "outputs": [
    {
     "name": "stdout",
     "output_type": "stream",
     "text": [
      "Geek id is: -438636408\n",
      "Parameterized Constructor called\n",
      "Geek id is: 21\n",
      "Geek id is: 21\n"
     ]
    },
    {
     "data": {
      "text/plain": [
       "@0x7fb5e5bfdba0"
      ]
     },
     "execution_count": 3,
     "metadata": {},
     "output_type": "execute_result"
    }
   ],
   "source": [
    "// C++ program to demonstrate constructors\n",
    "\n",
    "#include <bits/stdc++.h>\n",
    "using namespace std;\n",
    "class Geeks\n",
    "{\n",
    "\tpublic:\n",
    "\tint id;\n",
    "\t\n",
    "\t//Default Constructor\n",
    "\tGeeks()\n",
    "\t{\n",
    "\t\tcout << \"Default Constructor called\" << endl;\n",
    "\t\tid=-1;\n",
    "\t}\n",
    "\t\n",
    "\t//Parameterized Constructor\n",
    "\tGeeks(int x)\n",
    "\t{\n",
    "\t\tcout << \"Parameterized Constructor called\" << endl;\n",
    "\t\tid=x;\n",
    "\t}\n",
    "};\n",
    "\n",
    "\t\n",
    "\t// obj1 will call Default Constructor\n",
    "\tGeeks obj1;\n",
    "\tcout << \"Geek id is: \" <<obj1.id << endl;\n",
    "\t\n",
    "\t// obj1 will call Parameterized Constructor\n",
    "\tGeeks obj2(21);\n",
    "\tcout << \"Geek id is: \" <<obj2.id << endl;\n",
    "\n",
    "\tGeeks obj3(obj2);\n",
    "\tcout << \"Geek id is: \" <<obj3.id << endl;\n",
    "\n",
    "\n"
   ]
  },
  {
   "cell_type": "markdown",
   "metadata": {},
   "source": [
    "## Destructors\n",
    "\n",
    "Destructor is another special member function that is called by the compiler when the scope of the object ends."
   ]
  },
  {
   "cell_type": "code",
   "execution_count": 1,
   "metadata": {},
   "outputs": [
    {
     "name": "stdout",
     "output_type": "stream",
     "text": [
      "Destructor called for id: 0\n",
      "Destructor called for id: 1\n",
      "Destructor called for id: 2\n",
      "Destructor called for id: 3\n",
      "Destructor called for id: 4\n",
      "Destructor called for id: 7\n"
     ]
    }
   ],
   "source": [
    "// C++ program to explain destructors\n",
    "\n",
    "#include <bits/stdc++.h>\n",
    "using namespace std;\n",
    "class Geeks\n",
    "{\n",
    "\tpublic:\n",
    "\tint id;\n",
    "\t\n",
    "\t//Definition for Destructor\n",
    "\t~Geeks()\n",
    "\t{\n",
    "\t\tcout << \"Destructor called for id: \" << id <<endl;\n",
    "\t}\n",
    "};\n",
    "\n",
    "class Main{\n",
    "    public:\n",
    "     void main(){\n",
    "            Geeks obj1;\n",
    "            obj1.id=7;\n",
    "            int i = 0;\n",
    "            while ( i < 5 )\n",
    "            {\n",
    "                Geeks obj2;\n",
    "                obj2.id=i;\n",
    "                i++;\t\n",
    "            } // Scope for obj2 ends here\n",
    "\n",
    "        \n",
    "     // Scope for obj1 ends here\n",
    "     }\n",
    "};\n",
    "\t\n",
    "\n",
    "Main a;\n",
    "a.main();"
   ]
  },
  {
   "cell_type": "code",
   "execution_count": null,
   "metadata": {},
   "outputs": [],
   "source": []
  }
 ],
 "metadata": {
  "kernelspec": {
   "display_name": "C++11",
   "language": "C++11",
   "name": "xcpp11"
  },
  "language_info": {
   "codemirror_mode": "text/x-c++src",
   "file_extension": ".cpp",
   "mimetype": "text/x-c++src",
   "name": "C++11",
   "version": "11"
  },
  "orig_nbformat": 4
 },
 "nbformat": 4,
 "nbformat_minor": 2
}
